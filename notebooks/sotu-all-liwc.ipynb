{
 "cells": [
  {
   "cell_type": "code",
   "execution_count": 43,
   "metadata": {
    "collapsed": true
   },
   "outputs": [],
   "source": [
    "%matplotlib inline\n",
    "import requests\n",
    "import json \n",
    "import matplotlib.pyplot as plt\n",
    "import pandas\n",
    "from datetime import datetime\n",
    "import seaborn as sns\n",
    "import glob\n",
    "from os.path import basename\n",
    "sns.set_context('poster')\n",
    "import re\n",
    "import itertools"
   ]
  },
  {
   "cell_type": "code",
   "execution_count": 44,
   "metadata": {
    "collapsed": true
   },
   "outputs": [],
   "source": [
    "#convention_speeches = glob.glob('../results/receptiviti/convention/*')\n",
    "#inaug_speeches = glob.glob('../results/receptiviti/inaug/*')\n",
    "\n",
    "sotu_speeches = glob.glob('../results/receptiviti/SOTU/*')"
   ]
  },
  {
   "cell_type": "code",
   "execution_count": 45,
   "metadata": {
    "collapsed": false
   },
   "outputs": [
    {
     "name": "stdout",
     "output_type": "stream",
     "text": [
      "34\n",
      "../results/receptiviti/SOTU/clinton-sotu-1993.json\n",
      "../results/receptiviti/SOTU/clinton-sotu-1994.json\n",
      "../results/receptiviti/SOTU/clinton-sotu-1995.json\n",
      "../results/receptiviti/SOTU/clinton-sotu-1996.json\n",
      "../results/receptiviti/SOTU/clinton-sotu-1998.json\n",
      "../results/receptiviti/SOTU/clinton-sotu-1999.json\n",
      "../results/receptiviti/SOTU/clinton-sotu-2000.json\n",
      "../results/receptiviti/SOTU/gwbush-sotu-2001.json\n",
      "../results/receptiviti/SOTU/gwbush-sotu-2002.json\n",
      "../results/receptiviti/SOTU/gwbush-sotu-2003.json\n",
      "../results/receptiviti/SOTU/gwbush-sotu-2004.json\n",
      "../results/receptiviti/SOTU/gwbush-sotu-2006.json\n",
      "../results/receptiviti/SOTU/gwbush-sotu-2007.json\n",
      "../results/receptiviti/SOTU/gwbush-sotu-2008.json\n",
      "../results/receptiviti/SOTU/hwbush-sotu-1989.json\n",
      "../results/receptiviti/SOTU/hwbush-sotu-1990.json\n",
      "../results/receptiviti/SOTU/hwbush-sotu-1991.json\n",
      "../results/receptiviti/SOTU/hwbush-sotu-1992.json\n",
      "../results/receptiviti/SOTU/obama-sotu-2009.json\n",
      "../results/receptiviti/SOTU/obama-sotu-2010.json\n",
      "../results/receptiviti/SOTU/obama-sotu-2011.json\n",
      "../results/receptiviti/SOTU/obama-sotu-2012.json\n",
      "../results/receptiviti/SOTU/obama-sotu-2013.json\n",
      "../results/receptiviti/SOTU/obama-sotu-2014.json\n",
      "../results/receptiviti/SOTU/obama-sotu-2015.json\n",
      "../results/receptiviti/SOTU/obama-sotu-2016.json\n",
      "../results/receptiviti/SOTU/reagan-sotu-1981.json\n",
      "../results/receptiviti/SOTU/reagan-sotu-1982.json\n",
      "../results/receptiviti/SOTU/reagan-sotu-1983.json\n",
      "../results/receptiviti/SOTU/reagan-sotu-1984.json\n",
      "../results/receptiviti/SOTU/reagan-sotu-1985.json\n",
      "../results/receptiviti/SOTU/reagan-sotu-1986.json\n",
      "../results/receptiviti/SOTU/reagan-sotu-1987.json\n",
      "../results/receptiviti/SOTU/reagan-sotu-1988.json\n"
     ]
    }
   ],
   "source": [
    "print len(sotu_speeches)\n",
    "print \"\\n\".join(sotu_speeches)"
   ]
  },
  {
   "cell_type": "code",
   "execution_count": 46,
   "metadata": {
    "collapsed": false
   },
   "outputs": [
    {
     "name": "stdout",
     "output_type": "stream",
     "text": [
      "../results/receptiviti/SOTU/clinton-sotu-1993.json\n",
      "../results/receptiviti/SOTU/clinton-sotu-1994.json\n",
      "../results/receptiviti/SOTU/clinton-sotu-1995.json\n",
      "../results/receptiviti/SOTU/clinton-sotu-1996.json\n",
      "../results/receptiviti/SOTU/clinton-sotu-1998.json\n",
      "../results/receptiviti/SOTU/clinton-sotu-1999.json\n",
      "../results/receptiviti/SOTU/clinton-sotu-2000.json\n",
      "../results/receptiviti/SOTU/gwbush-sotu-2001.json\n",
      "../results/receptiviti/SOTU/gwbush-sotu-2002.json\n",
      "../results/receptiviti/SOTU/gwbush-sotu-2003.json\n",
      "../results/receptiviti/SOTU/gwbush-sotu-2004.json\n",
      "../results/receptiviti/SOTU/gwbush-sotu-2006.json\n",
      "../results/receptiviti/SOTU/gwbush-sotu-2007.json\n",
      "../results/receptiviti/SOTU/gwbush-sotu-2008.json\n",
      "../results/receptiviti/SOTU/hwbush-sotu-1989.json\n",
      "../results/receptiviti/SOTU/hwbush-sotu-1990.json\n",
      "../results/receptiviti/SOTU/hwbush-sotu-1991.json\n",
      "../results/receptiviti/SOTU/hwbush-sotu-1992.json\n",
      "../results/receptiviti/SOTU/obama-sotu-2009.json\n",
      "../results/receptiviti/SOTU/obama-sotu-2010.json\n",
      "../results/receptiviti/SOTU/obama-sotu-2011.json\n",
      "../results/receptiviti/SOTU/obama-sotu-2012.json\n",
      "../results/receptiviti/SOTU/obama-sotu-2013.json\n",
      "../results/receptiviti/SOTU/obama-sotu-2014.json\n",
      "../results/receptiviti/SOTU/obama-sotu-2015.json\n",
      "../results/receptiviti/SOTU/obama-sotu-2016.json\n",
      "../results/receptiviti/SOTU/reagan-sotu-1981.json\n",
      "../results/receptiviti/SOTU/reagan-sotu-1982.json\n",
      "../results/receptiviti/SOTU/reagan-sotu-1983.json\n",
      "../results/receptiviti/SOTU/reagan-sotu-1984.json\n",
      "../results/receptiviti/SOTU/reagan-sotu-1985.json\n",
      "../results/receptiviti/SOTU/reagan-sotu-1986.json\n"
     ]
    },
    {
     "ename": "ValueError",
     "evalue": "No JSON object could be decoded",
     "output_type": "error",
     "traceback": [
      "\u001b[0;31m---------------------------------------------------------------------------\u001b[0m",
      "\u001b[0;31mValueError\u001b[0m                                Traceback (most recent call last)",
      "\u001b[0;32m<ipython-input-46-6d1755163fc4>\u001b[0m in \u001b[0;36m<module>\u001b[0;34m()\u001b[0m\n\u001b[1;32m      3\u001b[0m \u001b[0;32mfor\u001b[0m \u001b[0mspeech\u001b[0m \u001b[0;32min\u001b[0m \u001b[0msotu_speeches\u001b[0m\u001b[0;34m:\u001b[0m\u001b[0;34m\u001b[0m\u001b[0m\n\u001b[1;32m      4\u001b[0m     \u001b[0;32mprint\u001b[0m \u001b[0mspeech\u001b[0m\u001b[0;34m\u001b[0m\u001b[0m\n\u001b[0;32m----> 5\u001b[0;31m     \u001b[0mj\u001b[0m \u001b[0;34m=\u001b[0m \u001b[0mjson\u001b[0m\u001b[0;34m.\u001b[0m\u001b[0mload\u001b[0m\u001b[0;34m(\u001b[0m\u001b[0mopen\u001b[0m\u001b[0;34m(\u001b[0m\u001b[0mspeech\u001b[0m\u001b[0;34m)\u001b[0m\u001b[0;34m)\u001b[0m\u001b[0;34m\u001b[0m\u001b[0m\n\u001b[0m\u001b[1;32m      6\u001b[0m     \u001b[0mfields\u001b[0m \u001b[0;34m=\u001b[0m \u001b[0;34m{\u001b[0m\u001b[0mk\u001b[0m\u001b[0;34m:\u001b[0m\u001b[0mv\u001b[0m \u001b[0;32mfor\u001b[0m \u001b[0mk\u001b[0m\u001b[0;34m,\u001b[0m\u001b[0mv\u001b[0m \u001b[0;32min\u001b[0m \u001b[0mj\u001b[0m\u001b[0;34m[\u001b[0m\u001b[0;34m'liwc_scores'\u001b[0m\u001b[0;34m]\u001b[0m\u001b[0;34m.\u001b[0m\u001b[0miteritems\u001b[0m\u001b[0;34m(\u001b[0m\u001b[0;34m)\u001b[0m \u001b[0;32mif\u001b[0m \u001b[0mk\u001b[0m \u001b[0;34m!=\u001b[0m \u001b[0;34m'categories'\u001b[0m\u001b[0;34m}\u001b[0m\u001b[0;34m\u001b[0m\u001b[0m\n\u001b[1;32m      7\u001b[0m     \u001b[0mfields\u001b[0m\u001b[0;34m.\u001b[0m\u001b[0mupdate\u001b[0m\u001b[0;34m(\u001b[0m\u001b[0mj\u001b[0m\u001b[0;34m[\u001b[0m\u001b[0;34m'liwc_scores'\u001b[0m\u001b[0;34m]\u001b[0m\u001b[0;34m[\u001b[0m\u001b[0;34m'categories'\u001b[0m\u001b[0;34m]\u001b[0m\u001b[0;34m)\u001b[0m\u001b[0;34m\u001b[0m\u001b[0m\n",
      "\u001b[0;32m/usr/local/Cellar/python/2.7.13/Frameworks/Python.framework/Versions/2.7/lib/python2.7/json/__init__.pyc\u001b[0m in \u001b[0;36mload\u001b[0;34m(fp, encoding, cls, object_hook, parse_float, parse_int, parse_constant, object_pairs_hook, **kw)\u001b[0m\n\u001b[1;32m    289\u001b[0m         \u001b[0mparse_float\u001b[0m\u001b[0;34m=\u001b[0m\u001b[0mparse_float\u001b[0m\u001b[0;34m,\u001b[0m \u001b[0mparse_int\u001b[0m\u001b[0;34m=\u001b[0m\u001b[0mparse_int\u001b[0m\u001b[0;34m,\u001b[0m\u001b[0;34m\u001b[0m\u001b[0m\n\u001b[1;32m    290\u001b[0m         \u001b[0mparse_constant\u001b[0m\u001b[0;34m=\u001b[0m\u001b[0mparse_constant\u001b[0m\u001b[0;34m,\u001b[0m \u001b[0mobject_pairs_hook\u001b[0m\u001b[0;34m=\u001b[0m\u001b[0mobject_pairs_hook\u001b[0m\u001b[0;34m,\u001b[0m\u001b[0;34m\u001b[0m\u001b[0m\n\u001b[0;32m--> 291\u001b[0;31m         **kw)\n\u001b[0m\u001b[1;32m    292\u001b[0m \u001b[0;34m\u001b[0m\u001b[0m\n\u001b[1;32m    293\u001b[0m \u001b[0;34m\u001b[0m\u001b[0m\n",
      "\u001b[0;32m/usr/local/Cellar/python/2.7.13/Frameworks/Python.framework/Versions/2.7/lib/python2.7/json/__init__.pyc\u001b[0m in \u001b[0;36mloads\u001b[0;34m(s, encoding, cls, object_hook, parse_float, parse_int, parse_constant, object_pairs_hook, **kw)\u001b[0m\n\u001b[1;32m    337\u001b[0m             \u001b[0mparse_int\u001b[0m \u001b[0;32mis\u001b[0m \u001b[0mNone\u001b[0m \u001b[0;32mand\u001b[0m \u001b[0mparse_float\u001b[0m \u001b[0;32mis\u001b[0m \u001b[0mNone\u001b[0m \u001b[0;32mand\u001b[0m\u001b[0;34m\u001b[0m\u001b[0m\n\u001b[1;32m    338\u001b[0m             parse_constant is None and object_pairs_hook is None and not kw):\n\u001b[0;32m--> 339\u001b[0;31m         \u001b[0;32mreturn\u001b[0m \u001b[0m_default_decoder\u001b[0m\u001b[0;34m.\u001b[0m\u001b[0mdecode\u001b[0m\u001b[0;34m(\u001b[0m\u001b[0ms\u001b[0m\u001b[0;34m)\u001b[0m\u001b[0;34m\u001b[0m\u001b[0m\n\u001b[0m\u001b[1;32m    340\u001b[0m     \u001b[0;32mif\u001b[0m \u001b[0mcls\u001b[0m \u001b[0;32mis\u001b[0m \u001b[0mNone\u001b[0m\u001b[0;34m:\u001b[0m\u001b[0;34m\u001b[0m\u001b[0m\n\u001b[1;32m    341\u001b[0m         \u001b[0mcls\u001b[0m \u001b[0;34m=\u001b[0m \u001b[0mJSONDecoder\u001b[0m\u001b[0;34m\u001b[0m\u001b[0m\n",
      "\u001b[0;32m/usr/local/Cellar/python/2.7.13/Frameworks/Python.framework/Versions/2.7/lib/python2.7/json/decoder.pyc\u001b[0m in \u001b[0;36mdecode\u001b[0;34m(self, s, _w)\u001b[0m\n\u001b[1;32m    362\u001b[0m \u001b[0;34m\u001b[0m\u001b[0m\n\u001b[1;32m    363\u001b[0m         \"\"\"\n\u001b[0;32m--> 364\u001b[0;31m         \u001b[0mobj\u001b[0m\u001b[0;34m,\u001b[0m \u001b[0mend\u001b[0m \u001b[0;34m=\u001b[0m \u001b[0mself\u001b[0m\u001b[0;34m.\u001b[0m\u001b[0mraw_decode\u001b[0m\u001b[0;34m(\u001b[0m\u001b[0ms\u001b[0m\u001b[0;34m,\u001b[0m \u001b[0midx\u001b[0m\u001b[0;34m=\u001b[0m\u001b[0m_w\u001b[0m\u001b[0;34m(\u001b[0m\u001b[0ms\u001b[0m\u001b[0;34m,\u001b[0m \u001b[0;36m0\u001b[0m\u001b[0;34m)\u001b[0m\u001b[0;34m.\u001b[0m\u001b[0mend\u001b[0m\u001b[0;34m(\u001b[0m\u001b[0;34m)\u001b[0m\u001b[0;34m)\u001b[0m\u001b[0;34m\u001b[0m\u001b[0m\n\u001b[0m\u001b[1;32m    365\u001b[0m         \u001b[0mend\u001b[0m \u001b[0;34m=\u001b[0m \u001b[0m_w\u001b[0m\u001b[0;34m(\u001b[0m\u001b[0ms\u001b[0m\u001b[0;34m,\u001b[0m \u001b[0mend\u001b[0m\u001b[0;34m)\u001b[0m\u001b[0;34m.\u001b[0m\u001b[0mend\u001b[0m\u001b[0;34m(\u001b[0m\u001b[0;34m)\u001b[0m\u001b[0;34m\u001b[0m\u001b[0m\n\u001b[1;32m    366\u001b[0m         \u001b[0;32mif\u001b[0m \u001b[0mend\u001b[0m \u001b[0;34m!=\u001b[0m \u001b[0mlen\u001b[0m\u001b[0;34m(\u001b[0m\u001b[0ms\u001b[0m\u001b[0;34m)\u001b[0m\u001b[0;34m:\u001b[0m\u001b[0;34m\u001b[0m\u001b[0m\n",
      "\u001b[0;32m/usr/local/Cellar/python/2.7.13/Frameworks/Python.framework/Versions/2.7/lib/python2.7/json/decoder.pyc\u001b[0m in \u001b[0;36mraw_decode\u001b[0;34m(self, s, idx)\u001b[0m\n\u001b[1;32m    380\u001b[0m             \u001b[0mobj\u001b[0m\u001b[0;34m,\u001b[0m \u001b[0mend\u001b[0m \u001b[0;34m=\u001b[0m \u001b[0mself\u001b[0m\u001b[0;34m.\u001b[0m\u001b[0mscan_once\u001b[0m\u001b[0;34m(\u001b[0m\u001b[0ms\u001b[0m\u001b[0;34m,\u001b[0m \u001b[0midx\u001b[0m\u001b[0;34m)\u001b[0m\u001b[0;34m\u001b[0m\u001b[0m\n\u001b[1;32m    381\u001b[0m         \u001b[0;32mexcept\u001b[0m \u001b[0mStopIteration\u001b[0m\u001b[0;34m:\u001b[0m\u001b[0;34m\u001b[0m\u001b[0m\n\u001b[0;32m--> 382\u001b[0;31m             \u001b[0;32mraise\u001b[0m \u001b[0mValueError\u001b[0m\u001b[0;34m(\u001b[0m\u001b[0;34m\"No JSON object could be decoded\"\u001b[0m\u001b[0;34m)\u001b[0m\u001b[0;34m\u001b[0m\u001b[0m\n\u001b[0m\u001b[1;32m    383\u001b[0m         \u001b[0;32mreturn\u001b[0m \u001b[0mobj\u001b[0m\u001b[0;34m,\u001b[0m \u001b[0mend\u001b[0m\u001b[0;34m\u001b[0m\u001b[0m\n",
      "\u001b[0;31mValueError\u001b[0m: No JSON object could be decoded"
     ]
    }
   ],
   "source": [
    "dataframes = []\n",
    " \n",
    "for speech in sotu_speeches:\n",
    "    print speech\n",
    "    j = json.load(open(speech)) \n",
    "    fields = {k:v for k,v in j['liwc_scores'].iteritems() if k != 'categories'}\n",
    "    fields.update(j['liwc_scores']['categories']) \n",
    "    df = pandas.DataFrame.transpose(pandas.DataFrame.from_dict(fields, orient='index'))\n",
    "    df['president'] = re.findall('(\\w+)-.+', basename(speech))\n",
    "    df['type'] = re.findall('.+-(\\w+)-.+', basename(speech))\n",
    "    df['year'] = re.findall('.+-(\\d+).+', basename(speech))\n",
    "    df['speechname'] = basename(speech).replace('.json', '')\n",
    "    dataframes.append(df)"
   ]
  },
  {
   "cell_type": "code",
   "execution_count": 47,
   "metadata": {
    "collapsed": false
   },
   "outputs": [],
   "source": [
    "df = pandas.concat(dataframes)\n",
    "df = df.set_index('speechname',drop=True)\n",
    "df.to_csv('../results/receptiviti/master/all-sotu.csv')"
   ]
  },
  {
   "cell_type": "code",
   "execution_count": 48,
   "metadata": {
    "collapsed": false
   },
   "outputs": [
    {
     "data": {
      "text/plain": [
       "speechname\n",
       "clinton-sotu-1993    sotu\n",
       "clinton-sotu-1994    sotu\n",
       "clinton-sotu-1995    sotu\n",
       "clinton-sotu-1996    sotu\n",
       "clinton-sotu-1998    sotu\n",
       "clinton-sotu-1999    sotu\n",
       "clinton-sotu-2000    sotu\n",
       "gwbush-sotu-2001     sotu\n",
       "gwbush-sotu-2002     sotu\n",
       "gwbush-sotu-2003     sotu\n",
       "gwbush-sotu-2004     sotu\n",
       "gwbush-sotu-2006     sotu\n",
       "gwbush-sotu-2007     sotu\n",
       "gwbush-sotu-2008     sotu\n",
       "hwbush-sotu-1989     sotu\n",
       "hwbush-sotu-1990     sotu\n",
       "hwbush-sotu-1991     sotu\n",
       "hwbush-sotu-1992     sotu\n",
       "obama-sotu-2009      sotu\n",
       "obama-sotu-2010      sotu\n",
       "obama-sotu-2011      sotu\n",
       "obama-sotu-2012      sotu\n",
       "obama-sotu-2013      sotu\n",
       "obama-sotu-2014      sotu\n",
       "obama-sotu-2015      sotu\n",
       "obama-sotu-2016      sotu\n",
       "reagan-sotu-1981     sotu\n",
       "reagan-sotu-1982     sotu\n",
       "reagan-sotu-1983     sotu\n",
       "reagan-sotu-1984     sotu\n",
       "reagan-sotu-1985     sotu\n",
       "Name: type, dtype: object"
      ]
     },
     "execution_count": 48,
     "metadata": {},
     "output_type": "execute_result"
    }
   ],
   "source": [
    "df.type"
   ]
  },
  {
   "cell_type": "code",
   "execution_count": null,
   "metadata": {
    "collapsed": true
   },
   "outputs": [],
   "source": [
    "df.au"
   ]
  },
  {
   "cell_type": "code",
   "execution_count": 55,
   "metadata": {
    "collapsed": false
   },
   "outputs": [],
   "source": [
    "# average of SOTU\n",
    "df.sort_values('tone').tone\n",
    "df.sort_values('tone').tone.to_csv('../results/receptiviti/master/all-sotu-tone-sorted.csv',header=['tone'])\n",
    "df.sort_values('analytic').analytic.to_csv('../results/receptiviti/master/all-sotu-analytic-sorted.csv',header=['analytic'])\n",
    "df.sort_values('authentic').authentic.to_csv('../results/receptiviti/master/all-sotu-authentic-sorted.csv',header=['authentic'])"
   ]
  },
  {
   "cell_type": "code",
   "execution_count": null,
   "metadata": {
    "collapsed": true
   },
   "outputs": [],
   "source": []
  }
 ],
 "metadata": {
  "kernelspec": {
   "display_name": "Python 2",
   "language": "python",
   "name": "python2"
  },
  "language_info": {
   "codemirror_mode": {
    "name": "ipython",
    "version": 2
   },
   "file_extension": ".py",
   "mimetype": "text/x-python",
   "name": "python",
   "nbconvert_exporter": "python",
   "pygments_lexer": "ipython2",
   "version": "2.7.13"
  }
 },
 "nbformat": 4,
 "nbformat_minor": 2
}
