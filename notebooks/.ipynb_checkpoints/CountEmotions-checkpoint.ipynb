{
 "cells": [
  {
   "cell_type": "code",
   "execution_count": null,
   "metadata": {
    "collapsed": true
   },
   "outputs": [],
   "source": [
    "For ea. speech:\n",
    "* For each category from the Harvard inquirer:\n",
    "   * output WORD_COUNT, NUMBER OF MATCHES for that category"
   ]
  },
  {
   "cell_type": "code",
   "execution_count": 1,
   "metadata": {
    "collapsed": false
   },
   "outputs": [],
   "source": [
    "%matplotlib inline\n",
    "import matplotlib.pyplot as plt\n",
    "import pandas\n",
    "import inspect\n",
    "from datetime import datetime\n",
    "import seaborn as sns\n",
    "import glob\n",
    "from os.path import basename\n",
    "sns.set_context('poster')\n",
    "import re"
   ]
  },
  {
   "cell_type": "code",
   "execution_count": 47,
   "metadata": {
    "collapsed": true
   },
   "outputs": [],
   "source": [
    "from collections import Counter\n",
    "import csv"
   ]
  },
  {
   "cell_type": "code",
   "execution_count": 6,
   "metadata": {
    "collapsed": true
   },
   "outputs": [],
   "source": [
    "dictionaries = glob.glob('../data/dictionaries/*')\n",
    "speeches = glob.glob('../data/tokenized/SOTU/*') "
   ]
  },
  {
   "cell_type": "code",
   "execution_count": 32,
   "metadata": {
    "collapsed": false
   },
   "outputs": [],
   "source": [
    "categories = []\n",
    "for d in dictionaries:\n",
    "    with open(d) as f:\n",
    "        categories.append((basename(d).replace('.csv', ''), f.read().split()))"
   ]
  },
  {
   "cell_type": "code",
   "execution_count": 49,
   "metadata": {
    "collapsed": false
   },
   "outputs": [
    {
     "name": "stdout",
     "output_type": "stream",
     "text": [
      "clinton 1993\n",
      "gwbush 2001\n",
      "hwbush 1989\n",
      "obama 2009\n",
      "reagan 1981\n"
     ]
    }
   ],
   "source": [
    "with open('../results/SOTU/SOTU-emotional-vocab-count.csv', \"wb\") as outfile: \n",
    "    writer = csv.writer(outfile, delimiter=',', quotechar='\"', quoting=csv.QUOTE_ALL) \n",
    "    writer.writerow(['president', 'year', 'category', 'count', 'total_words', 'percent'])\n",
    "\n",
    "    for s in speeches:\n",
    "        president, year = basename(s).replace(\"-tokens.txt\", \"\").split(\"-\")\n",
    "        print president, year\n",
    "\n",
    "        with open(s) as f:\n",
    "            tokens = f.read().upper().split() \n",
    "            c = Counter(tokens)\n",
    "\n",
    "            for category in categories:\n",
    "                total = len({key: c[key] for key in c if key in category[1]}.values())\n",
    "                wc = len(tokens)\n",
    "                percent = 100 * (total / (wc * 1.0))\n",
    "                writer.writerow([president, year, category[0], total, wc, round(percent,2)])"
   ]
  },
  {
   "cell_type": "code",
   "execution_count": 2,
   "metadata": {
    "collapsed": true
   },
   "outputs": [],
   "source": [
    "df = pandas.read_csv('../results/SOTU/SOTU-emotional-vocab-count.csv')"
   ]
  },
  {
   "cell_type": "code",
   "execution_count": 9,
   "metadata": {
    "collapsed": false
   },
   "outputs": [],
   "source": [
    "df.sort_values(['category', 'percent'], ascending=[True,False]).to_csv('../results/SOTU/SOTU-emotional-vocab-count-SORTED.csv', index=False)"
   ]
  },
  {
   "cell_type": "code",
   "execution_count": null,
   "metadata": {
    "collapsed": true
   },
   "outputs": [],
   "source": []
  }
 ],
 "metadata": {
  "kernelspec": {
   "display_name": "Python 2",
   "language": "python",
   "name": "python2"
  },
  "language_info": {
   "codemirror_mode": {
    "name": "ipython",
    "version": 2
   },
   "file_extension": ".py",
   "mimetype": "text/x-python",
   "name": "python",
   "nbconvert_exporter": "python",
   "pygments_lexer": "ipython2",
   "version": "2.7.13"
  }
 },
 "nbformat": 4,
 "nbformat_minor": 2
}
