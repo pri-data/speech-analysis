{
 "cells": [
  {
   "cell_type": "code",
   "execution_count": 10,
   "metadata": {
    "collapsed": false
   },
   "outputs": [],
   "source": [
    "%matplotlib inline\n",
    "import matplotlib.pyplot as plt\n",
    "import pandas\n",
    "import inspect\n",
    "from datetime import datetime\n",
    "import seaborn as sns\n",
    "import glob\n",
    "from os.path import basename\n",
    "sns.set_context('poster')\n",
    "import re"
   ]
  },
  {
   "cell_type": "markdown",
   "metadata": {},
   "source": [
    "## Tokenize text on punct. and format DF"
   ]
  },
  {
   "cell_type": "code",
   "execution_count": 2,
   "metadata": {
    "collapsed": true
   },
   "outputs": [],
   "source": [
    "# Make your word tokenizer. We don't care about punct.\n",
    "from nltk.tokenize import RegexpTokenizer\n",
    "tokenizer = RegexpTokenizer(r'\\w+') "
   ]
  },
  {
   "cell_type": "code",
   "execution_count": 4,
   "metadata": {
    "collapsed": true
   },
   "outputs": [],
   "source": [
    "biglist = []"
   ]
  },
  {
   "cell_type": "code",
   "execution_count": 5,
   "metadata": {
    "collapsed": false
   },
   "outputs": [
    {
     "name": "stdout",
     "output_type": "stream",
     "text": [
      "clinton-1993.txt\n",
      "gwbush-2001.txt\n",
      "hwbush-1989.txt\n",
      "obama-2009.txt\n",
      "reagan-1981.txt\n"
     ]
    }
   ],
   "source": [
    "speeches = glob.glob('../data/SOTU/*')\n",
    "for s in speeches:\n",
    "    print basename(s)\n",
    "    with open(s) as speech:\n",
    "        text = speech.read()\n",
    "        tokens = tokenizer.tokenize(text.lower())\n",
    "        biglist.append([basename(s), tokens])"
   ]
  },
  {
   "cell_type": "code",
   "execution_count": 12,
   "metadata": {
    "collapsed": false
   },
   "outputs": [],
   "source": [
    "df = pandas.DataFrame(biglist)\n",
    "df.columns = ['president', 'tokens']\n",
    "#df.to_csv(\"data/tokenized-speeches.csv\")"
   ]
  },
  {
   "cell_type": "code",
   "execution_count": 14,
   "metadata": {
    "collapsed": false
   },
   "outputs": [
    {
     "data": {
      "text/html": [
       "<div>\n",
       "<table border=\"1\" class=\"dataframe\">\n",
       "  <thead>\n",
       "    <tr style=\"text-align: right;\">\n",
       "      <th></th>\n",
       "      <th>president</th>\n",
       "      <th>tokens</th>\n",
       "    </tr>\n",
       "  </thead>\n",
       "  <tbody>\n",
       "    <tr>\n",
       "      <th>0</th>\n",
       "      <td>clinton-1993.txt</td>\n",
       "      <td>[mr, president, mr, speaker, members, of, the,...</td>\n",
       "    </tr>\n",
       "    <tr>\n",
       "      <th>1</th>\n",
       "      <td>gwbush-2001.txt</td>\n",
       "      <td>[mr, speaker, mr, vice, president, members, of...</td>\n",
       "    </tr>\n",
       "    <tr>\n",
       "      <th>2</th>\n",
       "      <td>hwbush-1989.txt</td>\n",
       "      <td>[mr, speaker, mr, president, and, distinguishe...</td>\n",
       "    </tr>\n",
       "    <tr>\n",
       "      <th>3</th>\n",
       "      <td>obama-2009.txt</td>\n",
       "      <td>[madam, speaker, mr, vice, president, members,...</td>\n",
       "    </tr>\n",
       "    <tr>\n",
       "      <th>4</th>\n",
       "      <td>reagan-1981.txt</td>\n",
       "      <td>[mr, speaker, mr, president, distinguished, me...</td>\n",
       "    </tr>\n",
       "  </tbody>\n",
       "</table>\n",
       "</div>"
      ],
      "text/plain": [
       "          president                                             tokens\n",
       "0  clinton-1993.txt  [mr, president, mr, speaker, members, of, the,...\n",
       "1   gwbush-2001.txt  [mr, speaker, mr, vice, president, members, of...\n",
       "2   hwbush-1989.txt  [mr, speaker, mr, president, and, distinguishe...\n",
       "3    obama-2009.txt  [madam, speaker, mr, vice, president, members,...\n",
       "4   reagan-1981.txt  [mr, speaker, mr, president, distinguished, me..."
      ]
     },
     "execution_count": 14,
     "metadata": {},
     "output_type": "execute_result"
    }
   ],
   "source": [
    "df.head() "
   ]
  },
  {
   "cell_type": "code",
   "execution_count": 17,
   "metadata": {
    "collapsed": false
   },
   "outputs": [],
   "source": [
    "df['year'] = df['president'].apply(lambda x: re.findall('\\d+', x)[0])\n",
    "df['president'] = df['president'].apply(lambda x: re.findall('\\w+', x)[0])"
   ]
  },
  {
   "cell_type": "markdown",
   "metadata": {},
   "source": [
    "## Wordcount"
   ]
  },
  {
   "cell_type": "code",
   "execution_count": 23,
   "metadata": {
    "collapsed": false
   },
   "outputs": [],
   "source": [
    "df['word_count'] = df['tokens'].apply(lambda x: len(x))"
   ]
  },
  {
   "cell_type": "code",
   "execution_count": 21,
   "metadata": {
    "collapsed": false
   },
   "outputs": [
    {
     "data": {
      "text/html": [
       "<div>\n",
       "<table border=\"1\" class=\"dataframe\">\n",
       "  <thead>\n",
       "    <tr style=\"text-align: right;\">\n",
       "      <th></th>\n",
       "      <th>president</th>\n",
       "      <th>tokens</th>\n",
       "      <th>year</th>\n",
       "      <th>word_count</th>\n",
       "    </tr>\n",
       "  </thead>\n",
       "  <tbody>\n",
       "    <tr>\n",
       "      <th>0</th>\n",
       "      <td>clinton</td>\n",
       "      <td>[mr, president, mr, speaker, members, of, the,...</td>\n",
       "      <td>1993</td>\n",
       "      <td>7127</td>\n",
       "    </tr>\n",
       "    <tr>\n",
       "      <th>1</th>\n",
       "      <td>gwbush</td>\n",
       "      <td>[mr, speaker, mr, vice, president, members, of...</td>\n",
       "      <td>2001</td>\n",
       "      <td>4449</td>\n",
       "    </tr>\n",
       "    <tr>\n",
       "      <th>2</th>\n",
       "      <td>hwbush</td>\n",
       "      <td>[mr, speaker, mr, president, and, distinguishe...</td>\n",
       "      <td>1989</td>\n",
       "      <td>4917</td>\n",
       "    </tr>\n",
       "    <tr>\n",
       "      <th>3</th>\n",
       "      <td>obama</td>\n",
       "      <td>[madam, speaker, mr, vice, president, members,...</td>\n",
       "      <td>2009</td>\n",
       "      <td>6199</td>\n",
       "    </tr>\n",
       "    <tr>\n",
       "      <th>4</th>\n",
       "      <td>reagan</td>\n",
       "      <td>[mr, speaker, mr, president, distinguished, me...</td>\n",
       "      <td>1981</td>\n",
       "      <td>4572</td>\n",
       "    </tr>\n",
       "  </tbody>\n",
       "</table>\n",
       "</div>"
      ],
      "text/plain": [
       "  president                                             tokens  year  \\\n",
       "0   clinton  [mr, president, mr, speaker, members, of, the,...  1993   \n",
       "1    gwbush  [mr, speaker, mr, vice, president, members, of...  2001   \n",
       "2    hwbush  [mr, speaker, mr, president, and, distinguishe...  1989   \n",
       "3     obama  [madam, speaker, mr, vice, president, members,...  2009   \n",
       "4    reagan  [mr, speaker, mr, president, distinguished, me...  1981   \n",
       "\n",
       "   word_count  \n",
       "0        7127  \n",
       "1        4449  \n",
       "2        4917  \n",
       "3        6199  \n",
       "4        4572  "
      ]
     },
     "execution_count": 21,
     "metadata": {},
     "output_type": "execute_result"
    }
   ],
   "source": [
    "df.head()"
   ]
  },
  {
   "cell_type": "code",
   "execution_count": 20,
   "metadata": {
    "collapsed": false
   },
   "outputs": [
    {
     "data": {
      "text/plain": [
       "count       5.000000\n",
       "mean     5452.800000\n",
       "std      1165.146429\n",
       "min      4449.000000\n",
       "25%      4572.000000\n",
       "50%      4917.000000\n",
       "75%      6199.000000\n",
       "max      7127.000000\n",
       "Name: word_count, dtype: float64"
      ]
     },
     "execution_count": 20,
     "metadata": {},
     "output_type": "execute_result"
    }
   ],
   "source": [
    "df.word_count.describe()"
   ]
  },
  {
   "cell_type": "code",
   "execution_count": null,
   "metadata": {
    "collapsed": false
   },
   "outputs": [],
   "source": [
    "df.sort_values('word_count', ascending=True)"
   ]
  },
  {
   "cell_type": "code",
   "execution_count": null,
   "metadata": {
    "collapsed": false
   },
   "outputs": [],
   "source": [
    "df[df.president=='trump']"
   ]
  },
  {
   "cell_type": "code",
   "execution_count": null,
   "metadata": {
    "collapsed": false
   },
   "outputs": [],
   "source": [
    "df[['president', 'word_count']].to_csv('data/president_word_count.csv')"
   ]
  },
  {
   "cell_type": "markdown",
   "metadata": {},
   "source": [
    "### Read in CSV with date-- this was joined manually."
   ]
  },
  {
   "cell_type": "code",
   "execution_count": null,
   "metadata": {
    "collapsed": false
   },
   "outputs": [],
   "source": [
    "df_with_date = pandas.read_csv('data/name-date-wc.csv',index_col=False)"
   ]
  },
  {
   "cell_type": "code",
   "execution_count": null,
   "metadata": {
    "collapsed": false
   },
   "outputs": [],
   "source": [
    "df_with_date.sort_values('word_count', ascending=False)[:10]"
   ]
  },
  {
   "cell_type": "code",
   "execution_count": null,
   "metadata": {
    "collapsed": false
   },
   "outputs": [],
   "source": [
    "df_with_date.sort_values('word_count').plot(x='president',\n",
    "                                            y='word_count', \n",
    "                                            kind='barh',\n",
    "                                            legend=None)\n",
    "plt.title('Length of Address')\n",
    "plt.xlabel('Words') \n",
    "plt.ylabel(\"\")\n",
    "plt.savefig('figs/length-vs-president-sorted.png')"
   ]
  },
  {
   "cell_type": "code",
   "execution_count": null,
   "metadata": {
    "collapsed": false
   },
   "outputs": [],
   "source": [
    "df_with_date.sort_values('first-term', ascending=False).plot(x='president',\n",
    "                                            y='word_count', \n",
    "                                            kind='barh',\n",
    "                                            legend=None)\n",
    "plt.title('Length of Address')\n",
    "plt.xlabel('Words') \n",
    "plt.ylabel(\"\")\n",
    "#plt.savefig('figs/length-vs-president.png')"
   ]
  },
  {
   "cell_type": "markdown",
   "metadata": {},
   "source": [
    "## Texty stuff"
   ]
  },
  {
   "cell_type": "code",
   "execution_count": null,
   "metadata": {
    "collapsed": false
   },
   "outputs": [],
   "source": [
    "## DONT TOKENIZE HERE....\n",
    "untokenized = []\n",
    "speeches = glob.glob('data/transcripts/*')\n",
    "for s in speeches:\n",
    "    print basename(s)\n",
    "    with open(s) as speech:\n",
    "        text = speech.read() \n",
    "        untokenized.append([basename(s), text])\n",
    "\n",
    "raw = pandas.DataFrame(untokenized)\n",
    "raw.columns = ['president', 'text']\n",
    "raw.to_csv(\"data/raw-speeches.csv\")"
   ]
  },
  {
   "cell_type": "code",
   "execution_count": null,
   "metadata": {
    "collapsed": false
   },
   "outputs": [],
   "source": [
    "raw.head()"
   ]
  },
  {
   "cell_type": "code",
   "execution_count": null,
   "metadata": {
    "collapsed": true
   },
   "outputs": [],
   "source": [
    "from textstat.textstat import textstat"
   ]
  },
  {
   "cell_type": "code",
   "execution_count": null,
   "metadata": {
    "collapsed": false
   },
   "outputs": [],
   "source": [
    "raw['fk_grade'] = raw.text.apply(lambda x: textstat.flesch_kincaid_grade(x))\n",
    "raw['readability'] = raw.text.apply(lambda x: textstat.flesch_reading_ease(x))"
   ]
  },
  {
   "cell_type": "code",
   "execution_count": null,
   "metadata": {
    "collapsed": false
   },
   "outputs": [],
   "source": [
    "raw[['president', 'fk_grade', 'readability']].to_csv('data/fk-grade-readability.csv')"
   ]
  },
  {
   "cell_type": "code",
   "execution_count": null,
   "metadata": {
    "collapsed": false
   },
   "outputs": [],
   "source": [
    "raw.fk_grade.describe()"
   ]
  },
  {
   "cell_type": "markdown",
   "metadata": {},
   "source": [
    "## Now with all fields"
   ]
  },
  {
   "cell_type": "code",
   "execution_count": null,
   "metadata": {
    "collapsed": true
   },
   "outputs": [],
   "source": [
    "joined = pandas.read_csv('data/name-date-wc-grade-readability.csv')"
   ]
  },
  {
   "cell_type": "code",
   "execution_count": null,
   "metadata": {
    "collapsed": false
   },
   "outputs": [],
   "source": [
    "joined.head()"
   ]
  },
  {
   "cell_type": "code",
   "execution_count": null,
   "metadata": {
    "collapsed": false
   },
   "outputs": [],
   "source": [
    "joined.sort_values('fk_grade', ascending=False).plot(x='president',\n",
    "                                            y='fk_grade', \n",
    "                                            kind='barh',\n",
    "                                            legend=None)\n",
    "plt.title('Grade Level of Address')\n",
    "plt.xlabel('Grade') \n",
    "plt.ylabel(\"\")\n",
    "plt.savefig('figs/grade-level.png')"
   ]
  },
  {
   "cell_type": "code",
   "execution_count": null,
   "metadata": {
    "collapsed": false
   },
   "outputs": [],
   "source": [
    "joined.sort_values('readability', ascending=False).plot(x='president',\n",
    "                                            y='readability', \n",
    "                                            kind='barh',\n",
    "                                            legend=None)\n",
    "plt.title('Readability')\n",
    "plt.xlabel('Grade') \n",
    "plt.ylabel(\"\")\n",
    "#plt.savefig('figs/grade-level.png')"
   ]
  },
  {
   "cell_type": "markdown",
   "metadata": {},
   "source": [
    "## Just modern prezzies"
   ]
  },
  {
   "cell_type": "code",
   "execution_count": null,
   "metadata": {
    "collapsed": false
   },
   "outputs": [],
   "source": [
    "subset = joined.sort_values('first-term', ascending=False)[:10]\n",
    "subset.to_csv('data/last-10-presidents.csv')"
   ]
  },
  {
   "cell_type": "code",
   "execution_count": null,
   "metadata": {
    "collapsed": false
   },
   "outputs": [],
   "source": [
    "subset.sort_values('fk_grade', ascending=False).plot(x='president',\n",
    "                                            y='fk_grade', \n",
    "                                            kind='barh',\n",
    "                                            legend=None)\n",
    "plt.title('Grade Level of Inaugural Address')\n",
    "plt.xlabel('Grade') \n",
    "plt.ylabel(\"\")\n",
    "plt.savefig('figs/grade-level-subset.png')"
   ]
  },
  {
   "cell_type": "code",
   "execution_count": null,
   "metadata": {
    "collapsed": false
   },
   "outputs": [],
   "source": [
    "subset.sort_values('word_count', ascending=False).plot(x='president',\n",
    "                                            y='word_count', \n",
    "                                            kind='barh',\n",
    "                                            legend=None)\n",
    "plt.title('Length of Inaugural Address')\n",
    "plt.xlabel('Words') \n",
    "plt.ylabel(\"\")\n",
    "plt.savefig('figs/word-count-subset.png')"
   ]
  },
  {
   "cell_type": "code",
   "execution_count": null,
   "metadata": {
    "collapsed": false
   },
   "outputs": [],
   "source": [
    "subset.sort_values('fk_grade', ascending=True).fk_grade"
   ]
  },
  {
   "cell_type": "markdown",
   "metadata": {},
   "source": [
    "## TF-IDF"
   ]
  },
  {
   "cell_type": "code",
   "execution_count": null,
   "metadata": {
    "collapsed": false
   },
   "outputs": [],
   "source": [
    "import math\n",
    "from textblob import TextBlob as tb\n",
    "\n",
    "def tf(word, blob):\n",
    "    return blob.words.count(word) / len(blob.words)\n",
    "\n",
    "def n_containing(word, bloblist):\n",
    "    return sum(1 for blob in bloblist if word in blob.words)\n",
    "\n",
    "def idf(word, bloblist):\n",
    "    return math.log(len(bloblist) / (1 + n_containing(word, bloblist)))\n",
    "\n",
    "def tfidf(word, blob, bloblist):\n",
    "    return tf(word, blob) * idf(word, bloblist)"
   ]
  },
  {
   "cell_type": "code",
   "execution_count": null,
   "metadata": {
    "collapsed": false
   },
   "outputs": [],
   "source": [
    "joined_10 = pandas.merge(raw, subset, left_on='fk_grade', right_on='fk_grade')"
   ]
  },
  {
   "cell_type": "code",
   "execution_count": null,
   "metadata": {
    "collapsed": false
   },
   "outputs": [],
   "source": [
    "joined_10 = joined_10[['president_x', 'text','fk_grade','first-term', 'word_count']]"
   ]
  },
  {
   "cell_type": "code",
   "execution_count": null,
   "metadata": {
    "collapsed": false
   },
   "outputs": [],
   "source": [
    "joined_10.columns = ['president', 'text', 'fk_grade', 'first_term', 'word_count']"
   ]
  },
  {
   "cell_type": "code",
   "execution_count": null,
   "metadata": {
    "collapsed": false
   },
   "outputs": [],
   "source": [
    "joined_10 = joined_10.drop_duplicates('president')"
   ]
  },
  {
   "cell_type": "code",
   "execution_count": null,
   "metadata": {
    "collapsed": false
   },
   "outputs": [],
   "source": [
    "joined_10"
   ]
  },
  {
   "cell_type": "code",
   "execution_count": null,
   "metadata": {
    "collapsed": false
   },
   "outputs": [],
   "source": [
    "bloblist = [tb(t) for t in joined_10.text]\n",
    "for i, blob in enumerate(bloblist):\n",
    "    print(\"Top words in document {}\".format(i + 1))\n",
    "    scores = {word: tfidf(word, blob, bloblist) for word in blob.words}\n",
    "    sorted_words = sorted(scores.items(), key=lambda x: x[1], reverse=True)\n",
    "    for word, score in sorted_words[:3]:\n",
    "        print(\"\\tWord: {}, TF-IDF: {}\".format(word, round(score, 5)))"
   ]
  },
  {
   "cell_type": "code",
   "execution_count": null,
   "metadata": {
    "collapsed": false
   },
   "outputs": [],
   "source": [
    " joined_10.to_csv(\"data/last-10-all-cols.csv\")"
   ]
  },
  {
   "cell_type": "markdown",
   "metadata": {
    "collapsed": false
   },
   "source": [
    " ## AMERICA INDEX"
   ]
  },
  {
   "cell_type": "code",
   "execution_count": null,
   "metadata": {
    "collapsed": false
   },
   "outputs": [],
   "source": [
    "df = pandas.read_csv('data/last-10-all-cols.csv')\n",
    "df.head()"
   ]
  },
  {
   "cell_type": "code",
   "execution_count": null,
   "metadata": {
    "collapsed": true
   },
   "outputs": [],
   "source": [
    "df['tokens'] = df.text.apply(lambda x: tokenizer.tokenize(x.lower()))"
   ]
  },
  {
   "cell_type": "code",
   "execution_count": null,
   "metadata": {
    "collapsed": false
   },
   "outputs": [],
   "source": [
    "from collections import Counter"
   ]
  },
  {
   "cell_type": "code",
   "execution_count": null,
   "metadata": {
    "collapsed": true
   },
   "outputs": [],
   "source": [
    "df['america_ct'] = df.tokens.apply(lambda x: Counter(x)['america'])"
   ]
  },
  {
   "cell_type": "code",
   "execution_count": null,
   "metadata": {
    "collapsed": false
   },
   "outputs": [],
   "source": [
    "df.sort_values('america_ct', ascending=False)"
   ]
  },
  {
   "cell_type": "code",
   "execution_count": null,
   "metadata": {
    "collapsed": false
   },
   "outputs": [],
   "source": [
    "df_all"
   ]
  },
  {
   "cell_type": "code",
   "execution_count": null,
   "metadata": {
    "collapsed": false
   },
   "outputs": [],
   "source": [
    "df_all['america_ct'] = df_all.tokens.apply(lambda x: Counter(x)['america'])\n",
    "df_all['american_s_ct'] = df_all.tokens.apply(lambda x: Counter(x)['american'] + Counter(x)['americans'])\n",
    "df_all['america_cans_ct'] = df_all.tokens.apply(lambda x: Counter(x)['america'] + Counter(x)['american'] + Counter(x)['americans'])\n",
    "df_all[['president', 'america_ct', 'america_cans_ct', 'american_s_ct']].sort_values('america_ct', ascending=False)"
   ]
  },
  {
   "cell_type": "code",
   "execution_count": null,
   "metadata": {
    "collapsed": true
   },
   "outputs": [],
   "source": [
    "df_all[['president', 'america_ct', 'america_cans_ct']].to_csv('data/america-count-ALL-PRES.csv')"
   ]
  },
  {
   "cell_type": "code",
   "execution_count": null,
   "metadata": {
    "collapsed": false
   },
   "outputs": [],
   "source": [
    "df_all[['president', 'america_ct', 'america_cans_ct']].sort_values('america_ct', ascending=True).plot(x='president',\n",
    "                                            y='america_ct', \n",
    "                                            kind='barh',\n",
    "                                            legend=None)\n",
    "plt.title('Number of times America was mentioned')\n",
    "plt.xlabel('Words') \n",
    "plt.ylabel(\"\")\n",
    "plt.savefig('figs/america-count.png')"
   ]
  },
  {
   "cell_type": "code",
   "execution_count": null,
   "metadata": {
    "collapsed": true
   },
   "outputs": [],
   "source": [
    "df_a"
   ]
  }
 ],
 "metadata": {
  "kernelspec": {
   "display_name": "Python 2",
   "language": "python",
   "name": "python2"
  },
  "language_info": {
   "codemirror_mode": {
    "name": "ipython",
    "version": 2
   },
   "file_extension": ".py",
   "mimetype": "text/x-python",
   "name": "python",
   "nbconvert_exporter": "python",
   "pygments_lexer": "ipython2",
   "version": "2.7.11"
  }
 },
 "nbformat": 4,
 "nbformat_minor": 2
}
